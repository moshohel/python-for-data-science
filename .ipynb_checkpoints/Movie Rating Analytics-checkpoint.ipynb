{
 "cells": [
  {
   "cell_type": "code",
   "execution_count": 1,
   "metadata": {},
   "outputs": [],
   "source": [
    "import pandas as pd"
   ]
  },
  {
   "cell_type": "code",
   "execution_count": 2,
   "metadata": {},
   "outputs": [],
   "source": [
    "movies = pd.read_csv(\"Movie-Ratings.csv\")"
   ]
  },
  {
   "cell_type": "code",
   "execution_count": 3,
   "metadata": {},
   "outputs": [
    {
     "data": {
      "text/plain": [
       "559"
      ]
     },
     "execution_count": 3,
     "metadata": {},
     "output_type": "execute_result"
    }
   ],
   "source": [
    "len(movies)"
   ]
  },
  {
   "cell_type": "code",
   "execution_count": 4,
   "metadata": {},
   "outputs": [
    {
     "data": {
      "text/html": [
       "<div>\n",
       "<style scoped>\n",
       "    .dataframe tbody tr th:only-of-type {\n",
       "        vertical-align: middle;\n",
       "    }\n",
       "\n",
       "    .dataframe tbody tr th {\n",
       "        vertical-align: top;\n",
       "    }\n",
       "\n",
       "    .dataframe thead th {\n",
       "        text-align: right;\n",
       "    }\n",
       "</style>\n",
       "<table border=\"1\" class=\"dataframe\">\n",
       "  <thead>\n",
       "    <tr style=\"text-align: right;\">\n",
       "      <th></th>\n",
       "      <th>Film</th>\n",
       "      <th>Genre</th>\n",
       "      <th>Rotten Tomatoes Ratings %</th>\n",
       "      <th>Audience Ratings %</th>\n",
       "      <th>Budget (million $)</th>\n",
       "      <th>Year of release</th>\n",
       "    </tr>\n",
       "  </thead>\n",
       "  <tbody>\n",
       "    <tr>\n",
       "      <th>0</th>\n",
       "      <td>(500) Days of Summer</td>\n",
       "      <td>Comedy</td>\n",
       "      <td>87</td>\n",
       "      <td>81</td>\n",
       "      <td>8</td>\n",
       "      <td>2009</td>\n",
       "    </tr>\n",
       "    <tr>\n",
       "      <th>1</th>\n",
       "      <td>10,000 B.C.</td>\n",
       "      <td>Adventure</td>\n",
       "      <td>9</td>\n",
       "      <td>44</td>\n",
       "      <td>105</td>\n",
       "      <td>2008</td>\n",
       "    </tr>\n",
       "    <tr>\n",
       "      <th>2</th>\n",
       "      <td>12 Rounds</td>\n",
       "      <td>Action</td>\n",
       "      <td>30</td>\n",
       "      <td>52</td>\n",
       "      <td>20</td>\n",
       "      <td>2009</td>\n",
       "    </tr>\n",
       "    <tr>\n",
       "      <th>3</th>\n",
       "      <td>127 Hours</td>\n",
       "      <td>Adventure</td>\n",
       "      <td>93</td>\n",
       "      <td>84</td>\n",
       "      <td>18</td>\n",
       "      <td>2010</td>\n",
       "    </tr>\n",
       "    <tr>\n",
       "      <th>4</th>\n",
       "      <td>17 Again</td>\n",
       "      <td>Comedy</td>\n",
       "      <td>55</td>\n",
       "      <td>70</td>\n",
       "      <td>20</td>\n",
       "      <td>2009</td>\n",
       "    </tr>\n",
       "  </tbody>\n",
       "</table>\n",
       "</div>"
      ],
      "text/plain": [
       "                    Film      Genre  Rotten Tomatoes Ratings %  \\\n",
       "0  (500) Days of Summer      Comedy                         87   \n",
       "1            10,000 B.C.  Adventure                          9   \n",
       "2             12 Rounds      Action                         30   \n",
       "3              127 Hours  Adventure                         93   \n",
       "4              17 Again      Comedy                         55   \n",
       "\n",
       "   Audience Ratings %  Budget (million $)  Year of release  \n",
       "0                  81                   8             2009  \n",
       "1                  44                 105             2008  \n",
       "2                  52                  20             2009  \n",
       "3                  84                  18             2010  \n",
       "4                  70                  20             2009  "
      ]
     },
     "execution_count": 4,
     "metadata": {},
     "output_type": "execute_result"
    }
   ],
   "source": [
    "movies.head()"
   ]
  },
  {
   "cell_type": "code",
   "execution_count": 5,
   "metadata": {},
   "outputs": [
    {
     "data": {
      "text/html": [
       "<style type=\"text/css\">\n",
       "table.dataframe td, table.dataframe th {\n",
       "    border: 1px  black solid !important;\n",
       "  color: black !important;\n",
       "}\n"
      ],
      "text/plain": [
       "<IPython.core.display.HTML object>"
      ]
     },
     "metadata": {},
     "output_type": "display_data"
    }
   ],
   "source": [
    "%%HTML\n",
    "<style type=\"text/css\">\n",
    "table.dataframe td, table.dataframe th {\n",
    "    border: 1px  black solid !important;\n",
    "  color: black !important;\n",
    "}"
   ]
  },
  {
   "cell_type": "code",
   "execution_count": 6,
   "metadata": {},
   "outputs": [
    {
     "data": {
      "text/plain": [
       "Index(['Film', 'Genre', 'Rotten Tomatoes Ratings %', 'Audience Ratings %',\n",
       "       'Budget (million $)', 'Year of release'],\n",
       "      dtype='object')"
      ]
     },
     "execution_count": 6,
     "metadata": {},
     "output_type": "execute_result"
    }
   ],
   "source": [
    "movies.columns"
   ]
  },
  {
   "cell_type": "code",
   "execution_count": 7,
   "metadata": {},
   "outputs": [],
   "source": [
    "movies.columns = ['Film', 'Genre', 'CriticRating', 'AudienceRating',\n",
    "       'BudgetMillions', 'Year']"
   ]
  },
  {
   "cell_type": "code",
   "execution_count": 8,
   "metadata": {},
   "outputs": [
    {
     "data": {
      "text/html": [
       "<div>\n",
       "<style scoped>\n",
       "    .dataframe tbody tr th:only-of-type {\n",
       "        vertical-align: middle;\n",
       "    }\n",
       "\n",
       "    .dataframe tbody tr th {\n",
       "        vertical-align: top;\n",
       "    }\n",
       "\n",
       "    .dataframe thead th {\n",
       "        text-align: right;\n",
       "    }\n",
       "</style>\n",
       "<table border=\"1\" class=\"dataframe\">\n",
       "  <thead>\n",
       "    <tr style=\"text-align: right;\">\n",
       "      <th></th>\n",
       "      <th>Film</th>\n",
       "      <th>Genre</th>\n",
       "      <th>CriticRating</th>\n",
       "      <th>AudienceRating</th>\n",
       "      <th>BudgetMillions</th>\n",
       "      <th>Year</th>\n",
       "    </tr>\n",
       "  </thead>\n",
       "  <tbody>\n",
       "    <tr>\n",
       "      <th>0</th>\n",
       "      <td>(500) Days of Summer</td>\n",
       "      <td>Comedy</td>\n",
       "      <td>87</td>\n",
       "      <td>81</td>\n",
       "      <td>8</td>\n",
       "      <td>2009</td>\n",
       "    </tr>\n",
       "    <tr>\n",
       "      <th>1</th>\n",
       "      <td>10,000 B.C.</td>\n",
       "      <td>Adventure</td>\n",
       "      <td>9</td>\n",
       "      <td>44</td>\n",
       "      <td>105</td>\n",
       "      <td>2008</td>\n",
       "    </tr>\n",
       "    <tr>\n",
       "      <th>2</th>\n",
       "      <td>12 Rounds</td>\n",
       "      <td>Action</td>\n",
       "      <td>30</td>\n",
       "      <td>52</td>\n",
       "      <td>20</td>\n",
       "      <td>2009</td>\n",
       "    </tr>\n",
       "    <tr>\n",
       "      <th>3</th>\n",
       "      <td>127 Hours</td>\n",
       "      <td>Adventure</td>\n",
       "      <td>93</td>\n",
       "      <td>84</td>\n",
       "      <td>18</td>\n",
       "      <td>2010</td>\n",
       "    </tr>\n",
       "    <tr>\n",
       "      <th>4</th>\n",
       "      <td>17 Again</td>\n",
       "      <td>Comedy</td>\n",
       "      <td>55</td>\n",
       "      <td>70</td>\n",
       "      <td>20</td>\n",
       "      <td>2009</td>\n",
       "    </tr>\n",
       "  </tbody>\n",
       "</table>\n",
       "</div>"
      ],
      "text/plain": [
       "                    Film      Genre  CriticRating  AudienceRating  \\\n",
       "0  (500) Days of Summer      Comedy            87              81   \n",
       "1            10,000 B.C.  Adventure             9              44   \n",
       "2             12 Rounds      Action            30              52   \n",
       "3              127 Hours  Adventure            93              84   \n",
       "4              17 Again      Comedy            55              70   \n",
       "\n",
       "   BudgetMillions  Year  \n",
       "0               8  2009  \n",
       "1             105  2008  \n",
       "2              20  2009  \n",
       "3              18  2010  \n",
       "4              20  2009  "
      ]
     },
     "execution_count": 8,
     "metadata": {},
     "output_type": "execute_result"
    }
   ],
   "source": [
    "movies.head()"
   ]
  },
  {
   "cell_type": "code",
   "execution_count": 9,
   "metadata": {},
   "outputs": [
    {
     "name": "stdout",
     "output_type": "stream",
     "text": [
      "<class 'pandas.core.frame.DataFrame'>\n",
      "RangeIndex: 559 entries, 0 to 558\n",
      "Data columns (total 6 columns):\n",
      "Film              559 non-null object\n",
      "Genre             559 non-null object\n",
      "CriticRating      559 non-null int64\n",
      "AudienceRating    559 non-null int64\n",
      "BudgetMillions    559 non-null int64\n",
      "Year              559 non-null int64\n",
      "dtypes: int64(4), object(2)\n",
      "memory usage: 26.3+ KB\n"
     ]
    }
   ],
   "source": [
    "movies.info()"
   ]
  },
  {
   "cell_type": "code",
   "execution_count": 10,
   "metadata": {},
   "outputs": [
    {
     "data": {
      "text/html": [
       "<div>\n",
       "<style scoped>\n",
       "    .dataframe tbody tr th:only-of-type {\n",
       "        vertical-align: middle;\n",
       "    }\n",
       "\n",
       "    .dataframe tbody tr th {\n",
       "        vertical-align: top;\n",
       "    }\n",
       "\n",
       "    .dataframe thead th {\n",
       "        text-align: right;\n",
       "    }\n",
       "</style>\n",
       "<table border=\"1\" class=\"dataframe\">\n",
       "  <thead>\n",
       "    <tr style=\"text-align: right;\">\n",
       "      <th></th>\n",
       "      <th>CriticRating</th>\n",
       "      <th>AudienceRating</th>\n",
       "      <th>BudgetMillions</th>\n",
       "      <th>Year</th>\n",
       "    </tr>\n",
       "  </thead>\n",
       "  <tbody>\n",
       "    <tr>\n",
       "      <th>count</th>\n",
       "      <td>559.000000</td>\n",
       "      <td>559.000000</td>\n",
       "      <td>559.000000</td>\n",
       "      <td>559.000000</td>\n",
       "    </tr>\n",
       "    <tr>\n",
       "      <th>mean</th>\n",
       "      <td>47.309481</td>\n",
       "      <td>58.744186</td>\n",
       "      <td>50.236136</td>\n",
       "      <td>2009.152057</td>\n",
       "    </tr>\n",
       "    <tr>\n",
       "      <th>std</th>\n",
       "      <td>26.413091</td>\n",
       "      <td>16.826887</td>\n",
       "      <td>48.731817</td>\n",
       "      <td>1.362632</td>\n",
       "    </tr>\n",
       "    <tr>\n",
       "      <th>min</th>\n",
       "      <td>0.000000</td>\n",
       "      <td>0.000000</td>\n",
       "      <td>0.000000</td>\n",
       "      <td>2007.000000</td>\n",
       "    </tr>\n",
       "    <tr>\n",
       "      <th>25%</th>\n",
       "      <td>25.000000</td>\n",
       "      <td>47.000000</td>\n",
       "      <td>20.000000</td>\n",
       "      <td>2008.000000</td>\n",
       "    </tr>\n",
       "    <tr>\n",
       "      <th>50%</th>\n",
       "      <td>46.000000</td>\n",
       "      <td>58.000000</td>\n",
       "      <td>35.000000</td>\n",
       "      <td>2009.000000</td>\n",
       "    </tr>\n",
       "    <tr>\n",
       "      <th>75%</th>\n",
       "      <td>70.000000</td>\n",
       "      <td>72.000000</td>\n",
       "      <td>65.000000</td>\n",
       "      <td>2010.000000</td>\n",
       "    </tr>\n",
       "    <tr>\n",
       "      <th>max</th>\n",
       "      <td>97.000000</td>\n",
       "      <td>96.000000</td>\n",
       "      <td>300.000000</td>\n",
       "      <td>2011.000000</td>\n",
       "    </tr>\n",
       "  </tbody>\n",
       "</table>\n",
       "</div>"
      ],
      "text/plain": [
       "       CriticRating  AudienceRating  BudgetMillions         Year\n",
       "count    559.000000      559.000000      559.000000   559.000000\n",
       "mean      47.309481       58.744186       50.236136  2009.152057\n",
       "std       26.413091       16.826887       48.731817     1.362632\n",
       "min        0.000000        0.000000        0.000000  2007.000000\n",
       "25%       25.000000       47.000000       20.000000  2008.000000\n",
       "50%       46.000000       58.000000       35.000000  2009.000000\n",
       "75%       70.000000       72.000000       65.000000  2010.000000\n",
       "max       97.000000       96.000000      300.000000  2011.000000"
      ]
     },
     "execution_count": 10,
     "metadata": {},
     "output_type": "execute_result"
    }
   ],
   "source": [
    "movies.describe()"
   ]
  },
  {
   "cell_type": "code",
   "execution_count": 11,
   "metadata": {},
   "outputs": [
    {
     "data": {
      "text/plain": [
       "0                   (500) Days of Summer \n",
       "1                             10,000 B.C.\n",
       "2                              12 Rounds \n",
       "3                               127 Hours\n",
       "4                               17 Again \n",
       "5                                    2012\n",
       "6                              27 Dresses\n",
       "7                        30 Days of Night\n",
       "8                      30 Minutes or Less\n",
       "9                                   50/50\n",
       "10                             88 Minutes\n",
       "11                     A Dangerous Method\n",
       "12              A Nightmare on Elm Street\n",
       "13                         A Serious Man \n",
       "14      A Very Harold and Kumar Christmas\n",
       "15                              Abduction\n",
       "16                    Across the Universe\n",
       "17                         Adventureland \n",
       "18                           Albert Nobbs\n",
       "19                    Alice in Wonderland\n",
       "20          Alien vs. Predator -- Requiem\n",
       "21                   Aliens in the Attic \n",
       "22                       All About Steve \n",
       "23                        All Good Things\n",
       "24                                Amelia \n",
       "25                      American Gangster\n",
       "26                           An Education\n",
       "27                              Anonymous\n",
       "28                              Apollo 18\n",
       "29                              Appaloosa\n",
       "                      ...                \n",
       "529                             War Horse\n",
       "530                               Warrior\n",
       "531                             Watchmen \n",
       "532                   Water For Elephants\n",
       "533                       We Bought a Zoo\n",
       "534                      We Own the Night\n",
       "535          Welcome Home, Roscoe Jenkins\n",
       "536                 What Happens in Vegas\n",
       "537                    What's Your Number\n",
       "538                       Whatever Works \n",
       "539                          When in Rome\n",
       "540            Where the Wild Things Are \n",
       "541                              Whip It \n",
       "542                             Whiteout \n",
       "543            Why Did I Get Married Too?\n",
       "544                             Wild Hogs\n",
       "545                         Winter's Bone\n",
       "546             X-Men Origins: Wolverine \n",
       "547                    X-Men: First Class\n",
       "548                             Year One \n",
       "549                               Yes Man\n",
       "550                             Yogi Bear\n",
       "551                             You Again\n",
       "552         You Don't Mess with the Zohan\n",
       "553    You Will Meet a Tall Dark Stranger\n",
       "554                         Your Highness\n",
       "555                       Youth in Revolt\n",
       "556                                Zodiac\n",
       "557                           Zombieland \n",
       "558                             Zookeeper\n",
       "Name: Film, Length: 559, dtype: object"
      ]
     },
     "execution_count": 11,
     "metadata": {},
     "output_type": "execute_result"
    }
   ],
   "source": [
    "movies.Film"
   ]
  },
  {
   "cell_type": "code",
   "execution_count": 12,
   "metadata": {},
   "outputs": [],
   "source": [
    "movies.Film = movies.Film.astype('category')"
   ]
  },
  {
   "cell_type": "code",
   "execution_count": 13,
   "metadata": {},
   "outputs": [
    {
     "name": "stdout",
     "output_type": "stream",
     "text": [
      "<class 'pandas.core.frame.DataFrame'>\n",
      "RangeIndex: 559 entries, 0 to 558\n",
      "Data columns (total 6 columns):\n",
      "Film              559 non-null category\n",
      "Genre             559 non-null object\n",
      "CriticRating      559 non-null int64\n",
      "AudienceRating    559 non-null int64\n",
      "BudgetMillions    559 non-null int64\n",
      "Year              559 non-null int64\n",
      "dtypes: category(1), int64(4), object(1)\n",
      "memory usage: 47.4+ KB\n"
     ]
    }
   ],
   "source": [
    "movies.info()"
   ]
  },
  {
   "cell_type": "code",
   "execution_count": 14,
   "metadata": {},
   "outputs": [],
   "source": [
    "movies.Genre = movies.Genre.astype('category')\n",
    "movies.Year = movies.Year.astype('category')"
   ]
  },
  {
   "cell_type": "code",
   "execution_count": 15,
   "metadata": {},
   "outputs": [
    {
     "name": "stdout",
     "output_type": "stream",
     "text": [
      "<class 'pandas.core.frame.DataFrame'>\n",
      "RangeIndex: 559 entries, 0 to 558\n",
      "Data columns (total 6 columns):\n",
      "Film              559 non-null category\n",
      "Genre             559 non-null category\n",
      "CriticRating      559 non-null int64\n",
      "AudienceRating    559 non-null int64\n",
      "BudgetMillions    559 non-null int64\n",
      "Year              559 non-null category\n",
      "dtypes: category(3), int64(3)\n",
      "memory usage: 40.3 KB\n"
     ]
    }
   ],
   "source": [
    "movies.info()"
   ]
  },
  {
   "cell_type": "code",
   "execution_count": 16,
   "metadata": {},
   "outputs": [
    {
     "data": {
      "text/plain": [
       "Index(['Action', 'Adventure', 'Comedy', 'Drama', 'Horror', 'Romance',\n",
       "       'Thriller'],\n",
       "      dtype='object')"
      ]
     },
     "execution_count": 16,
     "metadata": {},
     "output_type": "execute_result"
    }
   ],
   "source": [
    "movies.Genre.cat.categories"
   ]
  },
  {
   "cell_type": "code",
   "execution_count": 17,
   "metadata": {},
   "outputs": [
    {
     "data": {
      "text/html": [
       "<div>\n",
       "<style scoped>\n",
       "    .dataframe tbody tr th:only-of-type {\n",
       "        vertical-align: middle;\n",
       "    }\n",
       "\n",
       "    .dataframe tbody tr th {\n",
       "        vertical-align: top;\n",
       "    }\n",
       "\n",
       "    .dataframe thead th {\n",
       "        text-align: right;\n",
       "    }\n",
       "</style>\n",
       "<table border=\"1\" class=\"dataframe\">\n",
       "  <thead>\n",
       "    <tr style=\"text-align: right;\">\n",
       "      <th></th>\n",
       "      <th>CriticRating</th>\n",
       "      <th>AudienceRating</th>\n",
       "      <th>BudgetMillions</th>\n",
       "    </tr>\n",
       "  </thead>\n",
       "  <tbody>\n",
       "    <tr>\n",
       "      <th>count</th>\n",
       "      <td>559.000000</td>\n",
       "      <td>559.000000</td>\n",
       "      <td>559.000000</td>\n",
       "    </tr>\n",
       "    <tr>\n",
       "      <th>mean</th>\n",
       "      <td>47.309481</td>\n",
       "      <td>58.744186</td>\n",
       "      <td>50.236136</td>\n",
       "    </tr>\n",
       "    <tr>\n",
       "      <th>std</th>\n",
       "      <td>26.413091</td>\n",
       "      <td>16.826887</td>\n",
       "      <td>48.731817</td>\n",
       "    </tr>\n",
       "    <tr>\n",
       "      <th>min</th>\n",
       "      <td>0.000000</td>\n",
       "      <td>0.000000</td>\n",
       "      <td>0.000000</td>\n",
       "    </tr>\n",
       "    <tr>\n",
       "      <th>25%</th>\n",
       "      <td>25.000000</td>\n",
       "      <td>47.000000</td>\n",
       "      <td>20.000000</td>\n",
       "    </tr>\n",
       "    <tr>\n",
       "      <th>50%</th>\n",
       "      <td>46.000000</td>\n",
       "      <td>58.000000</td>\n",
       "      <td>35.000000</td>\n",
       "    </tr>\n",
       "    <tr>\n",
       "      <th>75%</th>\n",
       "      <td>70.000000</td>\n",
       "      <td>72.000000</td>\n",
       "      <td>65.000000</td>\n",
       "    </tr>\n",
       "    <tr>\n",
       "      <th>max</th>\n",
       "      <td>97.000000</td>\n",
       "      <td>96.000000</td>\n",
       "      <td>300.000000</td>\n",
       "    </tr>\n",
       "  </tbody>\n",
       "</table>\n",
       "</div>"
      ],
      "text/plain": [
       "       CriticRating  AudienceRating  BudgetMillions\n",
       "count    559.000000      559.000000      559.000000\n",
       "mean      47.309481       58.744186       50.236136\n",
       "std       26.413091       16.826887       48.731817\n",
       "min        0.000000        0.000000        0.000000\n",
       "25%       25.000000       47.000000       20.000000\n",
       "50%       46.000000       58.000000       35.000000\n",
       "75%       70.000000       72.000000       65.000000\n",
       "max       97.000000       96.000000      300.000000"
      ]
     },
     "execution_count": 17,
     "metadata": {},
     "output_type": "execute_result"
    }
   ],
   "source": [
    "movies.describe()"
   ]
  },
  {
   "cell_type": "code",
   "execution_count": 38,
   "metadata": {},
   "outputs": [],
   "source": [
    "from matplotlib import pyplot as plt\n",
    "#plt.style.use(\"classic\")\n",
    "import seaborn as sns\n",
    "#sns.set()\n",
    "#sns.set(style=\"darkgrid\")\n",
    "#sns.set(font_scale=1.2)\n",
    "%matplotlib inline\n",
    "#plt.rcParams['figure.figsize'] = 8,4\n",
    "import warnings\n",
    "warnings.filterwarnings('ignore')"
   ]
  },
  {
   "cell_type": "code",
   "execution_count": 39,
   "metadata": {},
   "outputs": [],
   "source": [
    "#----------------------------\n"
   ]
  },
  {
   "cell_type": "code",
   "execution_count": 40,
   "metadata": {},
   "outputs": [],
   "source": [
    "#Working with Joinplots"
   ]
  },
  {
   "cell_type": "code",
   "execution_count": 41,
   "metadata": {},
   "outputs": [
    {
     "data": {
      "image/png": "[encoded data removed]",
      "text/plain": [
       "<Figure size 432x432 with 3 Axes>"
      ]
     },
     "metadata": {
      "needs_background": "light"
     },
     "output_type": "display_data"
    }
   ],
   "source": [
    "j = sns.jointplot(data=movies, x='CriticRating', y='AudienceRating')"
   ]
  },
  {
   "cell_type": "code",
   "execution_count": 42,
   "metadata": {},
   "outputs": [
    {
     "data": {
      "image/png": "[encoded data removed]",
      "text/plain": [
       "<Figure size 432x432 with 3 Axes>"
      ]
     },
     "metadata": {
      "needs_background": "light"
     },
     "output_type": "display_data"
    }
   ],
   "source": [
    "j = sns.jointplot(data=movies, x='CriticRating', y='AudienceRating', kind='hex')"
   ]
  },
  {
   "cell_type": "code",
   "execution_count": 43,
   "metadata": {},
   "outputs": [],
   "source": [
    "#chart number - 1"
   ]
  },
  {
   "cell_type": "code",
   "execution_count": 44,
   "metadata": {},
   "outputs": [],
   "source": [
    "#-----------------------------"
   ]
  },
  {
   "cell_type": "code",
   "execution_count": 45,
   "metadata": {},
   "outputs": [],
   "source": [
    "#    Histograms"
   ]
  },
  {
   "cell_type": "code",
   "execution_count": 48,
   "metadata": {},
   "outputs": [
    {
     "data": {
      "image/png": "[encoded data removed]",
      "text/plain": [
       "<Figure size 432x288 with 1 Axes>"
      ]
     },
     "metadata": {
      "needs_background": "light"
     },
     "output_type": "display_data"
    }
   ],
   "source": [
    "m1 = sns.distplot(movies.AudienceRating, bins=15)"
   ]
  },
  {
   "cell_type": "code",
   "execution_count": 49,
   "metadata": {},
   "outputs": [
    {
     "data": {
      "image/png": "[encoded data removed]",
      "text/plain": [
       "<Figure size 432x288 with 1 Axes>"
      ]
     },
     "metadata": {
      "needs_background": "light"
     },
     "output_type": "display_data"
    }
   ],
   "source": [
    "m2 = sns.distplot(movies.CriticRating, bins=15)"
   ]
  },
  {
   "cell_type": "code",
   "execution_count": 56,
   "metadata": {},
   "outputs": [
    {
     "data": {
      "image/png": "[encoded data removed]",
      "text/plain": [
       "<Figure size 432x288 with 1 Axes>"
      ]
     },
     "metadata": {},
     "output_type": "display_data"
    }
   ],
   "source": [
    "sns.set_style(\"darkgrid\")\n",
    "n1 = plt.hist(movies.AudienceRating, bins=15)"
   ]
  },
  {
   "cell_type": "code",
   "execution_count": null,
   "metadata": {},
   "outputs": [],
   "source": [
    "#chart 2"
   ]
  },
  {
   "cell_type": "code",
   "execution_count": 61,
   "metadata": {},
   "outputs": [
    {
     "data": {
      "image/png": "[encoded data removed]",
      "text/plain": [
       "<Figure size 432x288 with 1 Axes>"
      ]
     },
     "metadata": {},
     "output_type": "display_data"
    }
   ],
   "source": [
    "n1 = plt.hist(movies.CriticRating, bins=15)"
   ]
  },
  {
   "cell_type": "code",
   "execution_count": 62,
   "metadata": {},
   "outputs": [],
   "source": [
    "#Chart 3\n",
    "#------------------------------------------"
   ]
  },
  {
   "cell_type": "code",
   "execution_count": 63,
   "metadata": {},
   "outputs": [],
   "source": [
    "#######   Stacked histograms in python"
   ]
  },
  {
   "cell_type": "code",
   "execution_count": 80,
   "metadata": {},
   "outputs": [
    {
     "data": {
      "image/png": "[encoded data removed]",
      "text/plain": [
       "<Figure size 432x288 with 1 Axes>"
      ]
     },
     "metadata": {},
     "output_type": "display_data"
    }
   ],
   "source": [
    "plt.hist(movies[movies.Genre == 'Action'].BudgetMillions, bins=15)\n",
    "plt.hist(movies[movies.Genre == 'Comedy'].BudgetMillions, bins=15)\n",
    "plt.hist(movies[movies.Genre == 'Drama'].BudgetMillions, bins=15)\n",
    "plt.hist(movies[movies.Genre == 'Thriller'].BudgetMillions, bins=15)\n",
    "\n",
    "plt.show()"
   ]
  },
  {
   "cell_type": "code",
   "execution_count": 81,
   "metadata": {},
   "outputs": [
    {
     "name": "stdout",
     "output_type": "stream",
     "text": [
      "Action\n",
      "Adventure\n",
      "Comedy\n",
      "Drama\n",
      "Horror\n",
      "Romance\n",
      "Thriller\n"
     ]
    }
   ],
   "source": [
    "for gen in movies.Genre.cat.categories:\n",
    "    print(gen)"
   ]
  },
  {
   "cell_type": "code",
   "execution_count": 89,
   "metadata": {},
   "outputs": [],
   "source": [
    "list1 = []\n",
    "mylabels = list()\n",
    "for gen in movies.Genre.cat.categories:\n",
    "    list1.append(movies[movies.Genre == gen].BudgetMillions)\n",
    "    mylabels.append(gen)\n",
    "    "
   ]
  },
  {
   "cell_type": "code",
   "execution_count": 90,
   "metadata": {},
   "outputs": [
    {
     "data": {
      "image/png": "[encoded data removed]",
      "text/plain": [
       "<Figure size 432x288 with 1 Axes>"
      ]
     },
     "metadata": {},
     "output_type": "display_data"
    }
   ],
   "source": [
    "h = plt.hist(list1, bins=30, stacked=True, rwidth=1, label=mylabels)\n",
    "plt.legend()\n",
    "plt.show()"
   ]
  },
  {
   "cell_type": "code",
   "execution_count": null,
   "metadata": {},
   "outputs": [],
   "source": [
    "#chart"
   ]
  },
  {
   "cell_type": "code",
   "execution_count": null,
   "metadata": {},
   "outputs": [],
   "source": []
  },
  {
   "cell_type": "code",
   "execution_count": null,
   "metadata": {},
   "outputs": [],
   "source": []
  },
  {
   "cell_type": "code",
   "execution_count": null,
   "metadata": {},
   "outputs": [],
   "source": []
  },
  {
   "cell_type": "code",
   "execution_count": null,
   "metadata": {},
   "outputs": [],
   "source": []
  },
  {
   "cell_type": "code",
   "execution_count": null,
   "metadata": {},
   "outputs": [],
   "source": []
  },
  {
   "cell_type": "code",
   "execution_count": null,
   "metadata": {},
   "outputs": [],
   "source": []
  },
  {
   "cell_type": "code",
   "execution_count": null,
   "metadata": {},
   "outputs": [],
   "source": []
  }
 ],
 "metadata": {
  "kernelspec": {
   "display_name": "Python 3",
   "language": "python",
   "name": "python3"
  },
  "language_info": {
   "codemirror_mode": {
    "name": "ipython",
    "version": 3
   },
   "file_extension": ".py",
   "mimetype": "text/x-python",
   "name": "python",
   "nbconvert_exporter": "python",
   "pygments_lexer": "ipython3",
   "version": "3.7.3"
  }
 },
 "nbformat": 4,
 "nbformat_minor": 2
}
